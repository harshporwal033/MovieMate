{
 "cells": [
  {
   "cell_type": "markdown",
   "id": "6a8f0276",
   "metadata": {},
   "source": [
    "# 📊 Exploratory Data Analysis (EDA)\n",
    "This notebook performs initial data analysis for the MovieLens dataset. It includes statistical summaries, visualizations, and filtering insights to guide recommender system design."
   ]
  },
  {
   "cell_type": "markdown",
   "id": "e1d2352e",
   "metadata": {},
   "source": [
    "## 1. 📥 Load Data"
   ]
  },
  {
   "cell_type": "code",
   "execution_count": null,
   "id": "4abd88e8",
   "metadata": {},
   "outputs": [],
   "source": [
    "import pandas as pd\n",
    "import matplotlib.pyplot as plt\n",
    "import seaborn as sns\n",
    "\n",
    "# Load dataset\n",
    "df = pd.read_csv('../data/ratings.csv')\n",
    "df.head()"
   ]
  },
  {
   "cell_type": "markdown",
   "id": "6aeff246",
   "metadata": {},
   "source": [
    "## 2. 📋 Basic Info and Summary"
   ]
  },
  {
   "cell_type": "code",
   "execution_count": null,
   "id": "890637c4",
   "metadata": {},
   "outputs": [],
   "source": [
    "df.info()\n",
    "df.describe()"
   ]
  },
  {
   "cell_type": "markdown",
   "id": "eca2630f",
   "metadata": {},
   "source": [
    "## 3. ⭐ Rating Distribution"
   ]
  },
  {
   "cell_type": "code",
   "execution_count": null,
   "id": "454045bd",
   "metadata": {},
   "outputs": [],
   "source": [
    "sns.histplot(df['rating'], bins=10, kde=False)\n",
    "plt.title('Rating Distribution')\n",
    "plt.xlabel('Rating')\n",
    "plt.ylabel('Count')\n",
    "plt.show()"
   ]
  },
  {
   "cell_type": "markdown",
   "id": "56a97eff",
   "metadata": {},
   "source": [
    "## 4. 👤 Unique Users and Movies"
   ]
  },
  {
   "cell_type": "code",
   "execution_count": null,
   "id": "3a0a556f",
   "metadata": {},
   "outputs": [],
   "source": [
    "print(\"Unique users:\", df['userId'].nunique())\n",
    "print(\"Unique movies:\", df['movieId'].nunique())"
   ]
  },
  {
   "cell_type": "markdown",
   "id": "6894d8e5",
   "metadata": {},
   "source": [
    "## 5. 📈 Ratings per User Distribution"
   ]
  },
  {
   "cell_type": "code",
   "execution_count": null,
   "id": "e04297a9",
   "metadata": {},
   "outputs": [],
   "source": [
    "user_counts = df['userId'].value_counts()\n",
    "sns.histplot(user_counts, bins=50)\n",
    "plt.title('Number of Ratings per User')\n",
    "plt.xlabel('Ratings Count')\n",
    "plt.ylabel('Users')\n",
    "plt.show()"
   ]
  },
  {
   "cell_type": "markdown",
   "id": "c88cc051",
   "metadata": {},
   "source": [
    "## 6. 🎬 Ratings per Movie Distribution"
   ]
  },
  {
   "cell_type": "code",
   "execution_count": null,
   "id": "1bd9ec01",
   "metadata": {},
   "outputs": [],
   "source": [
    "movie_counts = df['movieId'].value_counts()\n",
    "sns.histplot(movie_counts, bins=50)\n",
    "plt.title('Number of Ratings per Movie')\n",
    "plt.xlabel('Ratings Count')\n",
    "plt.ylabel('Movies')\n",
    "plt.show()"
   ]
  },
  {
   "cell_type": "markdown",
   "id": "04678058",
   "metadata": {},
   "source": [
    "## 7. 🧹 Filtering Threshold Justification\n",
    "Based on the distributions above, we will filter out users and movies with fewer than 10 ratings."
   ]
  },
  {
   "cell_type": "code",
   "execution_count": null,
   "id": "33a07295",
   "metadata": {},
   "outputs": [],
   "source": [
    "filtered_df = df[\n",
    "    df['userId'].isin(user_counts[user_counts >= 10].index) &\n",
    "    df['movieId'].isin(movie_counts[movie_counts >= 10].index)\n",
    "]\n",
    "filtered_df.shape"
   ]
  }
 ],
 "metadata": {
  "language_info": {
   "name": "python"
  }
 },
 "nbformat": 4,
 "nbformat_minor": 5
}
